{
 "cells": [
  {
   "cell_type": "code",
   "execution_count": 34,
   "metadata": {},
   "outputs": [],
   "source": [
    "# Tic Tac Toe Game"
   ]
  },
  {
   "cell_type": "code",
   "execution_count": 35,
   "metadata": {},
   "outputs": [],
   "source": [
    "# Step 1 - set up display board fucntion\n",
    "\n",
    "from IPython.display import clear_output\n",
    "\n",
    "def display_board(board):\n",
    "    clear_output()\n",
    "       \n",
    "    print(' ' + board[1] + ' | ' + board[2] + ' | ' + board[3] + ' ')\n",
    "    print('---|---|---')\n",
    "    print(' ' + board[4] + ' | ' + board[5] + ' | ' + board[6] + ' ')\n",
    "    print('---|---|---')\n",
    "    print(' ' + board[7] + ' | ' + board[8] + ' | ' + board[9] + ' ')"
   ]
  },
  {
   "cell_type": "code",
   "execution_count": 36,
   "metadata": {},
   "outputs": [
    {
     "name": "stdout",
     "output_type": "stream",
     "text": [
      " X | O | X \n",
      "---|---|---\n",
      " O | X | O \n",
      "---|---|---\n",
      " X | O | X \n"
     ]
    }
   ],
   "source": [
    "# Test - display_board function using a test board\n",
    "\n",
    "test_board = [' ','X','O','X','O','X','O','X','O','X']\n",
    "display_board(test_board)"
   ]
  },
  {
   "cell_type": "code",
   "execution_count": 37,
   "metadata": {},
   "outputs": [],
   "source": [
    "# Step 2 - set up a function that asks a player whether they want to choose 'X' or 'O'\n",
    "\n",
    "def player_input():\n",
    "    \n",
    "    marker = 'wrong'\n",
    "    \n",
    "    markers = ['X','O']\n",
    "    \n",
    "    while marker:\n",
    "    \n",
    "        marker = input(\"Player 1, do you want to be X or O? \").upper()\n",
    "        \n",
    "        if marker not in markers:\n",
    "            \n",
    "            print(\"Sorry but you must choose between X or O. Please try again!\")\n",
    "        \n",
    "        else:\n",
    "            \n",
    "            print(f\"Player 1 has chosen {marker}. Good choice!\")\n",
    "            \n",
    "            if marker == 'X':\n",
    "                \n",
    "                return ('X','O')\n",
    "            \n",
    "            else:\n",
    "                \n",
    "                return('O','X')\n",
    "        "
   ]
  },
  {
   "cell_type": "code",
   "execution_count": 38,
   "metadata": {},
   "outputs": [
    {
     "name": "stdout",
     "output_type": "stream",
     "text": [
      "Player 1, do you want to be X or O? s\n",
      "Sorry but you must choose between X or O. Please try again!\n",
      "Player 1, do you want to be X or O? x\n",
      "Player 1 has chosen X. Good choice!\n"
     ]
    },
    {
     "data": {
      "text/plain": [
       "('X', 'O')"
      ]
     },
     "execution_count": 38,
     "metadata": {},
     "output_type": "execute_result"
    }
   ],
   "source": [
    "# Test - check player_input function by trying inputs not in ['X','O']\n",
    "# Check lower case x or o to see if upper method is correctly functioning\n",
    "\n",
    "player_input()"
   ]
  },
  {
   "cell_type": "code",
   "execution_count": 39,
   "metadata": {},
   "outputs": [],
   "source": [
    "# Step 3 - write function to place player's marker in desired position on board\n",
    "# Modified board should be displayed\n",
    "\n",
    "def place_marker(board, marker, position):\n",
    "    \n",
    "    board[position] = marker"
   ]
  },
  {
   "cell_type": "code",
   "execution_count": 40,
   "metadata": {},
   "outputs": [
    {
     "name": "stdout",
     "output_type": "stream",
     "text": [
      " X | O | X \n",
      "---|---|---\n",
      " O | £ | O \n",
      "---|---|---\n",
      " X | O | X \n"
     ]
    }
   ],
   "source": [
    "# Test - Check to see if chosen marker (£) is being placed correctly on test board\n",
    "\n",
    "place_marker(test_board,'£',5)\n",
    "display_board(test_board)"
   ]
  },
  {
   "cell_type": "code",
   "execution_count": 41,
   "metadata": {},
   "outputs": [],
   "source": [
    "# Step 4 - Create function that checks if a given marker has won\n",
    "\n",
    "def win_check(board, mark):\n",
    "    return ((board[1] == board[2] == board[3] == mark) or\n",
    "    (board[4] == board[5] == board[6] == mark) or\n",
    "    (board[7] == board[8] == board[9] == mark) or\n",
    "    (board[1] == board[4] == board[7] == mark) or\n",
    "    (board[2] == board[5] == board[8] == mark) or\n",
    "    (board[3] == board[6] == board[9] == mark) or\n",
    "    (board[1] == board[5] == board[9] == mark) or\n",
    "    (board[3] == board[5] == board[7] == mark))\n",
    "        "
   ]
  },
  {
   "cell_type": "code",
   "execution_count": 42,
   "metadata": {},
   "outputs": [
    {
     "name": "stdout",
     "output_type": "stream",
     "text": [
      " X | O | X \n",
      "---|---|---\n",
      " O | O | O \n",
      "---|---|---\n",
      " X | O | X \n",
      "\n",
      "\n"
     ]
    },
    {
     "data": {
      "text/plain": [
       "True"
      ]
     },
     "execution_count": 42,
     "metadata": {},
     "output_type": "execute_result"
    }
   ],
   "source": [
    "# Test 1 - Make 'O' win using place_marker function and see if win_check confirms that 'O' wins\n",
    "\n",
    "place_marker(test_board,'O',5)\n",
    "display_board(test_board)\n",
    "print('\\n')\n",
    "win_check(test_board,'O')"
   ]
  },
  {
   "cell_type": "code",
   "execution_count": 43,
   "metadata": {},
   "outputs": [
    {
     "name": "stdout",
     "output_type": "stream",
     "text": [
      " X | O | X \n",
      "---|---|---\n",
      " O | £ | O \n",
      "---|---|---\n",
      " X | O | X \n",
      "\n",
      "\n"
     ]
    },
    {
     "data": {
      "text/plain": [
       "False"
      ]
     },
     "execution_count": 43,
     "metadata": {},
     "output_type": "execute_result"
    }
   ],
   "source": [
    "# Test 2 - Revert back to previous test board and see if win_check fucntion picks up tie\n",
    "\n",
    "place_marker(test_board,'£',5)\n",
    "display_board(test_board)\n",
    "print('\\n')\n",
    "win_check(test_board,'O')"
   ]
  },
  {
   "cell_type": "code",
   "execution_count": 44,
   "metadata": {},
   "outputs": [],
   "source": [
    "# Step 5 - Create function to randomly decide which player goes first\n",
    "\n",
    "import random\n",
    "from random import randint\n",
    "\n",
    "def choose_first():\n",
    "    \n",
    "    if random.randint(1,2) == 1:\n",
    "    \n",
    "        return 'Player 1'\n",
    "\n",
    "    else:\n",
    "    \n",
    "        return 'Player 2'\n",
    "    "
   ]
  },
  {
   "cell_type": "code",
   "execution_count": 45,
   "metadata": {},
   "outputs": [
    {
     "data": {
      "text/plain": [
       "'Player 2'"
      ]
     },
     "execution_count": 45,
     "metadata": {},
     "output_type": "execute_result"
    }
   ],
   "source": [
    "# Test - Check if random players are being chosen\n",
    "\n",
    "choose_first()"
   ]
  },
  {
   "cell_type": "code",
   "execution_count": 46,
   "metadata": {},
   "outputs": [],
   "source": [
    "# Step 6 - Create boolean function to check if there are any empty spaces on board\n",
    "\n",
    "def space_check(board, position):\n",
    "    \n",
    "    return board[position] == ' '"
   ]
  },
  {
   "cell_type": "code",
   "execution_count": 47,
   "metadata": {},
   "outputs": [
    {
     "name": "stdout",
     "output_type": "stream",
     "text": [
      " X | O | X \n",
      "---|---|---\n",
      " O | £ | O \n",
      "---|---|---\n",
      " X | O | X \n"
     ]
    },
    {
     "data": {
      "text/plain": [
       "False"
      ]
     },
     "execution_count": 47,
     "metadata": {},
     "output_type": "execute_result"
    }
   ],
   "source": [
    "# Test - Check if non-empty space returns False (test board) for space_check\n",
    "\n",
    "display_board(test_board)\n",
    "space_check(test_board,8)"
   ]
  },
  {
   "cell_type": "code",
   "execution_count": 48,
   "metadata": {},
   "outputs": [],
   "source": [
    "# Step 7 - Create boolean function to check if board positions are fully populated\n",
    "\n",
    "def full_board_check(board):\n",
    "    \n",
    "    for i in range(1,10):\n",
    "        \n",
    "        if space_check(board,i):\n",
    "            \n",
    "            return False\n",
    "        \n",
    "    return True"
   ]
  },
  {
   "cell_type": "code",
   "execution_count": 49,
   "metadata": {},
   "outputs": [
    {
     "name": "stdout",
     "output_type": "stream",
     "text": [
      " X | O | X \n",
      "---|---|---\n",
      " O | £ | O \n",
      "---|---|---\n",
      " X | O | X \n"
     ]
    },
    {
     "data": {
      "text/plain": [
       "True"
      ]
     },
     "execution_count": 49,
     "metadata": {},
     "output_type": "execute_result"
    }
   ],
   "source": [
    "# Test - Check if full test board returns True for full_board_check\n",
    "\n",
    "display_board(test_board)\n",
    "full_board_check(test_board)"
   ]
  },
  {
   "cell_type": "code",
   "execution_count": 50,
   "metadata": {},
   "outputs": [],
   "source": [
    "# Step 8 - Write a function that asks a player for his/her next position\n",
    "\n",
    "def player_choice(board):\n",
    "    position = 0\n",
    "    \n",
    "    while position not in [1,2,3,4,5,6,7,8,9] or not space_check(board, position):\n",
    "        position = int(input('Choose your next position: (1-9) '))\n",
    "        \n",
    "    return position"
   ]
  },
  {
   "cell_type": "code",
   "execution_count": 51,
   "metadata": {},
   "outputs": [],
   "source": [
    "# Step 9 - Write a function to ask players if they want to play again\n",
    "# Should return boolean True for 'Y' and False for 'N'\n",
    "\n",
    "def replay():\n",
    "\n",
    "    return input(\"That was a tight game! Do you want to play again? Enter Y or N: \").lower().startswith('y')"
   ]
  },
  {
   "cell_type": "code",
   "execution_count": 52,
   "metadata": {},
   "outputs": [
    {
     "name": "stdout",
     "output_type": "stream",
     "text": [
      "That was a tight game! Do you want to play again? Enter Y or N: y\n"
     ]
    },
    {
     "data": {
      "text/plain": [
       "True"
      ]
     },
     "execution_count": 52,
     "metadata": {},
     "output_type": "execute_result"
    }
   ],
   "source": [
    "# Test - Check output\n",
    "\n",
    "replay()"
   ]
  },
  {
   "cell_type": "code",
   "execution_count": 53,
   "metadata": {},
   "outputs": [
    {
     "name": "stdout",
     "output_type": "stream",
     "text": [
      " O | X | X \n",
      "---|---|---\n",
      "   | O |   \n",
      "---|---|---\n",
      "   |   | O \n",
      "Congratulations! Player 2 wins!\n",
      "That was a tight game! Do you want to play again? Enter Y or N: n\n",
      "Thanks for playing!\n"
     ]
    }
   ],
   "source": [
    "# Final composition of above functions to run the game\n",
    "\n",
    "print(\"Welcome to Tic Tac Toe!\")\n",
    "print(\"Believe me when I say that this is the best game you will ever play.\")\n",
    "print(\"Let's get started!\")\n",
    "\n",
    "while True:\n",
    "    \n",
    "    # Reset the board\n",
    "    \n",
    "    the_board = [' ']*10\n",
    "\n",
    "    player1_marker,player2_marker = player_input()\n",
    "    \n",
    "    turn = choose_first()\n",
    "    \n",
    "    print(turn + \" will go first!\")\n",
    "    \n",
    "    play_game = input(\"Are you ready to play? Enter Yes or No: \")\n",
    "    \n",
    "    if play_game.lower()[0] == 'y':\n",
    "        \n",
    "        print(\"LET'S DO IT!\")\n",
    "        \n",
    "        game_on = True\n",
    "    \n",
    "    else:\n",
    "        \n",
    "        game_on = False\n",
    "\n",
    "\n",
    "    while game_on:\n",
    "\n",
    "        # Logic for Player 1's turn\n",
    "\n",
    "        if turn == 'Player 1':\n",
    "                \n",
    "            display_board(the_board)\n",
    "                \n",
    "            position = player_choice(the_board)\n",
    "\n",
    "            place_marker(the_board,player1_marker, position)\n",
    "\n",
    "                \n",
    "            if win_check(the_board,player1_marker):\n",
    "\n",
    "                display_board(the_board)\n",
    "                    \n",
    "                print(\"Congratulations! Player 1 wins!\")\n",
    "                    \n",
    "                game_on = False\n",
    "\n",
    "            else:\n",
    "                    \n",
    "                    \n",
    "                if full_board_check(the_board):\n",
    "                        \n",
    "                    display_board(the_board)\n",
    "                        \n",
    "                    print(\"It's a tie! That was a tight game.\")\n",
    "                        \n",
    "                    break\n",
    "                    \n",
    "                else:\n",
    "                        \n",
    "                    turn = 'Player 2'\n",
    "\n",
    "            \n",
    "        else:\n",
    "                \n",
    "            # Logic for Player 2's turn\n",
    "                \n",
    "            display_board(the_board)\n",
    "                \n",
    "            position = player_choice(the_board)\n",
    "                \n",
    "            place_marker(the_board,player2_marker,position)\n",
    "                \n",
    "            if win_check(the_board,player2_marker):\n",
    "                    \n",
    "                display_board(the_board)\n",
    "                    \n",
    "                print(\"Congratulations! Player 2 wins!\")\n",
    "                    \n",
    "                game_on = False\n",
    "                \n",
    "            else:\n",
    "                    \n",
    "                if full_board_check(the_board):\n",
    "                        \n",
    "                    display_board(the_board)\n",
    "                        \n",
    "                    print(\"It's a tie! That was a tight game!\")\n",
    "                        \n",
    "                    break\n",
    "                    \n",
    "                else:\n",
    "                        \n",
    "                    turn = 'Player 1'\n",
    "\n",
    "    \n",
    "    if not replay():\n",
    "        \n",
    "        print(\"Thanks for playing!\")\n",
    "        \n",
    "        break\n",
    "    "
   ]
  },
  {
   "cell_type": "code",
   "execution_count": null,
   "metadata": {},
   "outputs": [],
   "source": []
  }
 ],
 "metadata": {
  "kernelspec": {
   "display_name": "Python 3",
   "language": "python",
   "name": "python3"
  },
  "language_info": {
   "codemirror_mode": {
    "name": "ipython",
    "version": 3
   },
   "file_extension": ".py",
   "mimetype": "text/x-python",
   "name": "python",
   "nbconvert_exporter": "python",
   "pygments_lexer": "ipython3",
   "version": "3.8.3"
  }
 },
 "nbformat": 4,
 "nbformat_minor": 4
}
